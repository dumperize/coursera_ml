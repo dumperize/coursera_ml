{
 "cells": [
  {
   "cell_type": "code",
   "execution_count": 1,
   "id": "c5141a3e",
   "metadata": {},
   "outputs": [],
   "source": [
    "import pandas\n",
    "import numpy as np\n",
    "import time\n",
    "import datetime\n",
    "from sklearn.model_selection import KFold\n",
    "from sklearn.model_selection import cross_val_score\n",
    "from sklearn.ensemble import GradientBoostingClassifier\n",
    "from sklearn.linear_model import LogisticRegression\n",
    "from sklearn.preprocessing import StandardScaler"
   ]
  },
  {
   "cell_type": "code",
   "execution_count": 2,
   "id": "2ec0516a",
   "metadata": {},
   "outputs": [],
   "source": [
    "#  функция для снятия таймера\n",
    "def log_timer(fn, args):\n",
    "    start_time = datetime.datetime.now()\n",
    "    result = fn(*args)\n",
    "    time_elapsed = datetime.datetime.now() - start_time;\n",
    "    print('Function {} with args: {} executed: {}'.format(fn.__name__, args[0], time_elapsed))\n",
    "    return result\n",
    "\n",
    "print_result = lambda param: print('Param: {:8} score: {:.4}'.format(param[0], param[1])) "
   ]
  },
  {
   "cell_type": "code",
   "execution_count": 3,
   "id": "ff80ab00",
   "metadata": {},
   "outputs": [
    {
     "data": {
      "text/html": [
       "<div>\n",
       "<style scoped>\n",
       "    .dataframe tbody tr th:only-of-type {\n",
       "        vertical-align: middle;\n",
       "    }\n",
       "\n",
       "    .dataframe tbody tr th {\n",
       "        vertical-align: top;\n",
       "    }\n",
       "\n",
       "    .dataframe thead th {\n",
       "        text-align: right;\n",
       "    }\n",
       "</style>\n",
       "<table border=\"1\" class=\"dataframe\">\n",
       "  <thead>\n",
       "    <tr style=\"text-align: right;\">\n",
       "      <th></th>\n",
       "      <th>start_time</th>\n",
       "      <th>lobby_type</th>\n",
       "      <th>r1_hero</th>\n",
       "      <th>r1_level</th>\n",
       "      <th>r1_xp</th>\n",
       "      <th>r1_gold</th>\n",
       "      <th>r1_lh</th>\n",
       "      <th>r1_kills</th>\n",
       "      <th>r1_deaths</th>\n",
       "      <th>r1_items</th>\n",
       "      <th>...</th>\n",
       "      <th>dire_boots_count</th>\n",
       "      <th>dire_ward_observer_count</th>\n",
       "      <th>dire_ward_sentry_count</th>\n",
       "      <th>dire_first_ward_time</th>\n",
       "      <th>duration</th>\n",
       "      <th>radiant_win</th>\n",
       "      <th>tower_status_radiant</th>\n",
       "      <th>tower_status_dire</th>\n",
       "      <th>barracks_status_radiant</th>\n",
       "      <th>barracks_status_dire</th>\n",
       "    </tr>\n",
       "    <tr>\n",
       "      <th>match_id</th>\n",
       "      <th></th>\n",
       "      <th></th>\n",
       "      <th></th>\n",
       "      <th></th>\n",
       "      <th></th>\n",
       "      <th></th>\n",
       "      <th></th>\n",
       "      <th></th>\n",
       "      <th></th>\n",
       "      <th></th>\n",
       "      <th></th>\n",
       "      <th></th>\n",
       "      <th></th>\n",
       "      <th></th>\n",
       "      <th></th>\n",
       "      <th></th>\n",
       "      <th></th>\n",
       "      <th></th>\n",
       "      <th></th>\n",
       "      <th></th>\n",
       "      <th></th>\n",
       "    </tr>\n",
       "  </thead>\n",
       "  <tbody>\n",
       "    <tr>\n",
       "      <th>0</th>\n",
       "      <td>1430198770</td>\n",
       "      <td>7</td>\n",
       "      <td>11</td>\n",
       "      <td>5</td>\n",
       "      <td>2098</td>\n",
       "      <td>1489</td>\n",
       "      <td>20</td>\n",
       "      <td>0</td>\n",
       "      <td>0</td>\n",
       "      <td>7</td>\n",
       "      <td>...</td>\n",
       "      <td>4</td>\n",
       "      <td>2</td>\n",
       "      <td>2</td>\n",
       "      <td>-52.0</td>\n",
       "      <td>2874</td>\n",
       "      <td>1</td>\n",
       "      <td>1796</td>\n",
       "      <td>0</td>\n",
       "      <td>51</td>\n",
       "      <td>0</td>\n",
       "    </tr>\n",
       "    <tr>\n",
       "      <th>1</th>\n",
       "      <td>1430220345</td>\n",
       "      <td>0</td>\n",
       "      <td>42</td>\n",
       "      <td>4</td>\n",
       "      <td>1188</td>\n",
       "      <td>1033</td>\n",
       "      <td>9</td>\n",
       "      <td>0</td>\n",
       "      <td>1</td>\n",
       "      <td>12</td>\n",
       "      <td>...</td>\n",
       "      <td>4</td>\n",
       "      <td>3</td>\n",
       "      <td>1</td>\n",
       "      <td>-5.0</td>\n",
       "      <td>2463</td>\n",
       "      <td>1</td>\n",
       "      <td>1974</td>\n",
       "      <td>0</td>\n",
       "      <td>63</td>\n",
       "      <td>1</td>\n",
       "    </tr>\n",
       "    <tr>\n",
       "      <th>2</th>\n",
       "      <td>1430227081</td>\n",
       "      <td>7</td>\n",
       "      <td>33</td>\n",
       "      <td>4</td>\n",
       "      <td>1319</td>\n",
       "      <td>1270</td>\n",
       "      <td>22</td>\n",
       "      <td>0</td>\n",
       "      <td>0</td>\n",
       "      <td>12</td>\n",
       "      <td>...</td>\n",
       "      <td>4</td>\n",
       "      <td>3</td>\n",
       "      <td>1</td>\n",
       "      <td>13.0</td>\n",
       "      <td>2130</td>\n",
       "      <td>0</td>\n",
       "      <td>0</td>\n",
       "      <td>1830</td>\n",
       "      <td>0</td>\n",
       "      <td>63</td>\n",
       "    </tr>\n",
       "    <tr>\n",
       "      <th>3</th>\n",
       "      <td>1430263531</td>\n",
       "      <td>1</td>\n",
       "      <td>29</td>\n",
       "      <td>4</td>\n",
       "      <td>1779</td>\n",
       "      <td>1056</td>\n",
       "      <td>14</td>\n",
       "      <td>0</td>\n",
       "      <td>0</td>\n",
       "      <td>5</td>\n",
       "      <td>...</td>\n",
       "      <td>4</td>\n",
       "      <td>2</td>\n",
       "      <td>0</td>\n",
       "      <td>27.0</td>\n",
       "      <td>1459</td>\n",
       "      <td>0</td>\n",
       "      <td>1920</td>\n",
       "      <td>2047</td>\n",
       "      <td>50</td>\n",
       "      <td>63</td>\n",
       "    </tr>\n",
       "    <tr>\n",
       "      <th>4</th>\n",
       "      <td>1430282290</td>\n",
       "      <td>7</td>\n",
       "      <td>13</td>\n",
       "      <td>4</td>\n",
       "      <td>1431</td>\n",
       "      <td>1090</td>\n",
       "      <td>8</td>\n",
       "      <td>1</td>\n",
       "      <td>0</td>\n",
       "      <td>8</td>\n",
       "      <td>...</td>\n",
       "      <td>3</td>\n",
       "      <td>3</td>\n",
       "      <td>0</td>\n",
       "      <td>-16.0</td>\n",
       "      <td>2449</td>\n",
       "      <td>0</td>\n",
       "      <td>4</td>\n",
       "      <td>1974</td>\n",
       "      <td>3</td>\n",
       "      <td>63</td>\n",
       "    </tr>\n",
       "  </tbody>\n",
       "</table>\n",
       "<p>5 rows × 108 columns</p>\n",
       "</div>"
      ],
      "text/plain": [
       "          start_time  lobby_type  r1_hero  r1_level  r1_xp  r1_gold  r1_lh  \\\n",
       "match_id                                                                     \n",
       "0         1430198770           7       11         5   2098     1489     20   \n",
       "1         1430220345           0       42         4   1188     1033      9   \n",
       "2         1430227081           7       33         4   1319     1270     22   \n",
       "3         1430263531           1       29         4   1779     1056     14   \n",
       "4         1430282290           7       13         4   1431     1090      8   \n",
       "\n",
       "          r1_kills  r1_deaths  r1_items  ...  dire_boots_count  \\\n",
       "match_id                                 ...                     \n",
       "0                0          0         7  ...                 4   \n",
       "1                0          1        12  ...                 4   \n",
       "2                0          0        12  ...                 4   \n",
       "3                0          0         5  ...                 4   \n",
       "4                1          0         8  ...                 3   \n",
       "\n",
       "          dire_ward_observer_count  dire_ward_sentry_count  \\\n",
       "match_id                                                     \n",
       "0                                2                       2   \n",
       "1                                3                       1   \n",
       "2                                3                       1   \n",
       "3                                2                       0   \n",
       "4                                3                       0   \n",
       "\n",
       "          dire_first_ward_time  duration  radiant_win  tower_status_radiant  \\\n",
       "match_id                                                                      \n",
       "0                        -52.0      2874            1                  1796   \n",
       "1                         -5.0      2463            1                  1974   \n",
       "2                         13.0      2130            0                     0   \n",
       "3                         27.0      1459            0                  1920   \n",
       "4                        -16.0      2449            0                     4   \n",
       "\n",
       "          tower_status_dire  barracks_status_radiant  barracks_status_dire  \n",
       "match_id                                                                    \n",
       "0                         0                       51                     0  \n",
       "1                         0                       63                     1  \n",
       "2                      1830                        0                    63  \n",
       "3                      2047                       50                    63  \n",
       "4                      1974                        3                    63  \n",
       "\n",
       "[5 rows x 108 columns]"
      ]
     },
     "execution_count": 3,
     "metadata": {},
     "output_type": "execute_result"
    }
   ],
   "source": [
    "# Считайте таблицу с признаками из файла features.csv с помощью кода, приведенного выше. \n",
    "\n",
    "features = pandas.read_csv('./features.csv', index_col='match_id')\n",
    "\n",
    "features.head()"
   ]
  },
  {
   "cell_type": "code",
   "execution_count": 4,
   "id": "c43cfcbf",
   "metadata": {},
   "outputs": [],
   "source": [
    "# Удалите признаки, связанные с итогами матча \n",
    "# (они помечены в описании данных как отсутствующие в тестовой выборке).\n",
    "data = features[features.columns[:-6]]"
   ]
  },
  {
   "cell_type": "code",
   "execution_count": 5,
   "id": "ce0a6295",
   "metadata": {},
   "outputs": [
    {
     "data": {
      "text/plain": [
       "first_blood_time               19553\n",
       "first_blood_team               19553\n",
       "first_blood_player1            19553\n",
       "first_blood_player2            43987\n",
       "radiant_bottle_time            15691\n",
       "radiant_courier_time             692\n",
       "radiant_flying_courier_time    27479\n",
       "radiant_first_ward_time         1836\n",
       "dire_bottle_time               16143\n",
       "dire_courier_time                676\n",
       "dire_flying_courier_time       26098\n",
       "dire_first_ward_time            1826\n",
       "dtype: int64"
      ]
     },
     "execution_count": 5,
     "metadata": {},
     "output_type": "execute_result"
    }
   ],
   "source": [
    "# Проверьте выборку на наличие пропусков с помощью функции count(), \n",
    "# которая для каждого столбца показывает число заполненных значений. \n",
    "# Много ли пропусков в данных? Запишите названия признаков, имеющих пропуски, \n",
    "# и попробуйте для любых двух из них дать обоснование, почему их значения могут быть пропущены.\n",
    "count_by_col = data.isnull().sum()\n",
    "count_by_col[count_by_col > 0]"
   ]
  },
  {
   "cell_type": "markdown",
   "id": "c48576f9",
   "metadata": {},
   "source": [
    "first_blood_time - игровое время первой крови\n",
    "first_blood_team: команда, совершившая первую кровь (0 — Radiant, 1 — Dire)\n",
    "first_blood_player1: игрок, причастный к событию\n",
    "first_blood_player2: второй игрок, причастный к событию\n",
    "\n",
    "В 19553 играх из 97230 первая кровь не была пролита. Соответственно first_blood_team, first_blood_player1 должны быть пустыми 19553, так как ни одна команда и ни один игрок не совершили первую кровь. \n",
    "В колонке first_blood_player2 пропусков больше - 43987, это означает что в 24434 (43987-19553) случаях первую кровь совершил один игрок. "
   ]
  },
  {
   "cell_type": "code",
   "execution_count": 6,
   "id": "b4477ccf",
   "metadata": {},
   "outputs": [],
   "source": [
    "# Замените пропуски на нули с помощью функции fillna(). \n",
    "# На самом деле этот способ является предпочтительным для логистической регрессии, \n",
    "# поскольку он позволит пропущенному значению не вносить никакого вклада в предсказание. \n",
    "# Для деревьев часто лучшим вариантом оказывается замена пропуска на очень большое \n",
    "# или очень маленькое значение — в этом случае при построении разбиения вершины \n",
    "# можно будет отправить объекты с пропусками в отдельную ветвь дерева. \n",
    "# Также есть и другие подходы — например, замена пропуска на среднее значение признака. \n",
    "# Мы не требуем этого в задании, но при желании попробуйте разные подходы к обработке пропусков \n",
    "# и сравните их между собой.\n",
    "X = data.fillna(0)"
   ]
  },
  {
   "cell_type": "code",
   "execution_count": 7,
   "id": "2f7d6bfd",
   "metadata": {},
   "outputs": [],
   "source": [
    "# Какой столбец содержит целевую переменную? Запишите его название.\n",
    "result_column = 'radiant_win'\n",
    "y = features[result_column]"
   ]
  },
  {
   "cell_type": "markdown",
   "id": "e3ed0089",
   "metadata": {},
   "source": [
    "## Подход 1: градиентный бустинг \"в лоб\""
   ]
  },
  {
   "cell_type": "code",
   "execution_count": 8,
   "id": "21def7f0",
   "metadata": {},
   "outputs": [],
   "source": [
    "# Забудем, что в выборке есть категориальные признаки, \n",
    "# и попробуем обучить градиентный бустинг над деревьями на имеющейся матрице \"объекты-признаки\". \n",
    "# Зафиксируйте генератор разбиений для кросс-валидации по 5 блокам (KFold), \n",
    "# не забудьте перемешать при этом выборку (shuffle=True), поскольку данные в таблице отсортированы по времени,\n",
    "# и без перемешивания можно столкнуться с нежелательными эффектами при оценивании качества. \n",
    "\n",
    "kf = KFold(n_splits=5, shuffle=True, random_state=42)\n",
    "    \n",
    "def GBC(n_estimators, X, y):\n",
    "    clf = GradientBoostingClassifier(n_estimators=n_estimators, random_state=42)\n",
    "    score = cross_val_score(clf, X, y, cv=kf, scoring='roc_auc').mean()\n",
    "    return score"
   ]
  },
  {
   "cell_type": "code",
   "execution_count": 9,
   "id": "66f233dd",
   "metadata": {},
   "outputs": [
    {
     "name": "stdout",
     "output_type": "stream",
     "text": [
      "Function GBC with args: 10 executed: 0:00:25.351497\n",
      "Function GBC with args: 20 executed: 0:00:49.528454\n",
      "Function GBC with args: 30 executed: 0:01:13.603098\n",
      "Function GBC with args: 40 executed: 0:01:38.505149\n",
      "Function GBC with args: 100 executed: 0:04:07.328606\n"
     ]
    }
   ],
   "source": [
    "# Оцените качество градиентного бустинга (GradientBoostingClassifier) с помощью данной кросс-валидации, \n",
    "# попробуйте при этом разное количество деревьев (как минимум протестируйте следующие значения \n",
    "# для количества деревьев: 10, 20, 30). \n",
    "number_trees = [10, 20, 30, 40, 100]\n",
    "\n",
    "scores = {n: log_timer(GBC, (n, X, y)) for n in number_trees}"
   ]
  },
  {
   "cell_type": "markdown",
   "id": "165589e1",
   "metadata": {},
   "source": [
    "<b>Долго ли настраивались классификаторы?</b>\n",
    "\n",
    "Чем больше деревьев используется, тем дольше время простчета. "
   ]
  },
  {
   "cell_type": "code",
   "execution_count": 10,
   "id": "c2f9c607",
   "metadata": {},
   "outputs": [
    {
     "name": "stdout",
     "output_type": "stream",
     "text": [
      "ALL_RESULT:\n",
      "Param:       10 score: 0.6649\n",
      "Param:       20 score: 0.6825\n",
      "Param:       30 score: 0.69\n",
      "Param:       40 score: 0.694\n",
      "Param:      100 score: 0.7062\n",
      "Best result: 0.7062\n"
     ]
    }
   ],
   "source": [
    "print('ALL_RESULT:')\n",
    "list(map(print_result, scores.items()))\n",
    "\n",
    "max_result = max([x for x in scores.values()])\n",
    "print('Best result: {:.4}'.format(max_result))"
   ]
  },
  {
   "cell_type": "markdown",
   "id": "aafd1518",
   "metadata": {},
   "source": [
    "<b>Достигнут ли оптимум на испытанных значениях параметра n_estimators, или же качество,\n",
    "скорее всего, продолжит расти при дальнейшем его увеличении?</b>\n",
    "\n",
    "Качество скорее всего продолжит расти, так же как и время просчета."
   ]
  },
  {
   "cell_type": "markdown",
   "id": "f52c5875",
   "metadata": {},
   "source": [
    "## Подход 2: логистическая регрессия"
   ]
  },
  {
   "cell_type": "code",
   "execution_count": 11,
   "id": "7dcd4bf2",
   "metadata": {},
   "outputs": [],
   "source": [
    "# Важно: не забывайте, что линейные алгоритмы чувствительны к масштабу признаков! \n",
    "# Может пригодиться sklearn.preprocessing.StandartScaler.\n",
    "\n",
    "def scaler_data(X):\n",
    "    scaler = StandardScaler()\n",
    "    return scaler.fit_transform(X)"
   ]
  },
  {
   "cell_type": "code",
   "execution_count": 12,
   "id": "77e9ac6d",
   "metadata": {},
   "outputs": [],
   "source": [
    "# Оцените качество логистической регрессии (sklearn.linear_model.LogisticRegression с L2-регуляризацией) \n",
    "# с помощью кросс-валидации по той же схеме, которая использовалась для градиентного бустинга. \n",
    "def LG(C, X, y):\n",
    "    kf = KFold(n_splits=5, shuffle=True)\n",
    "    lg = LogisticRegression(C=C, random_state=42, max_iter=3000)\n",
    "    score = cross_val_score(lg, X, y, cv=kf, scoring='roc_auc').mean()\n",
    "    return score"
   ]
  },
  {
   "cell_type": "code",
   "execution_count": 13,
   "id": "c52eb2de",
   "metadata": {},
   "outputs": [],
   "source": [
    "# Подберите при этом лучший параметр регуляризации (C). \n",
    "C_pow_range = range(-5, 6)\n",
    "C_range = [10.0 ** i for i in C_pow_range]"
   ]
  },
  {
   "cell_type": "code",
   "execution_count": 14,
   "id": "a9de26d8",
   "metadata": {},
   "outputs": [
    {
     "name": "stdout",
     "output_type": "stream",
     "text": [
      "Function LG with args: 1e-05 executed: 0:00:00.901671\n",
      "Function LG with args: 0.0001 executed: 0:00:01.072035\n",
      "Function LG with args: 0.001 executed: 0:00:01.949980\n",
      "Function LG with args: 0.01 executed: 0:00:03.047710\n",
      "Function LG with args: 0.1 executed: 0:00:03.093510\n",
      "Function LG with args: 1.0 executed: 0:00:03.247837\n",
      "Function LG with args: 10.0 executed: 0:00:03.010252\n",
      "Function LG with args: 100.0 executed: 0:00:03.210146\n",
      "Function LG with args: 1000.0 executed: 0:00:03.138587\n",
      "Function LG with args: 10000.0 executed: 0:00:02.902745\n",
      "Function LG with args: 100000.0 executed: 0:00:03.321926\n"
     ]
    }
   ],
   "source": [
    "X_scaler = scaler_data(X)\n",
    "scores = {c: log_timer(LG, (c, X_scaler, y)) for c in C_range}"
   ]
  },
  {
   "cell_type": "code",
   "execution_count": 15,
   "id": "25c9a7bb",
   "metadata": {},
   "outputs": [
    {
     "name": "stdout",
     "output_type": "stream",
     "text": [
      "ALL_RESULT:\n",
      "Param:    1e-05 score: 0.6952\n",
      "Param:   0.0001 score: 0.7114\n",
      "Param:    0.001 score: 0.7163\n",
      "Param:     0.01 score: 0.7163\n",
      "Param:      0.1 score: 0.7166\n",
      "Param:      1.0 score: 0.7163\n",
      "Param:     10.0 score: 0.7164\n",
      "Param:    100.0 score: 0.7166\n",
      "Param:   1000.0 score: 0.7164\n",
      "Param:  10000.0 score: 0.7164\n",
      "Param: 100000.0 score: 0.7166\n",
      "Best result: 0.7166\n"
     ]
    }
   ],
   "source": [
    "print('ALL_RESULT:')\n",
    "list(map(print_result, scores.items()))\n",
    "\n",
    "# Какое наилучшее качество у вас получилось? \n",
    "max_result = max([x for x in scores.values()])\n",
    "print('Best result: {:.4}'.format(max_result))"
   ]
  },
  {
   "cell_type": "markdown",
   "id": "631bcad4",
   "metadata": {},
   "source": [
    "<b>Как качество соотносится с качеством градиентного бустинга?</b>\n",
    "\n",
    "Качесвтво логистической регрессии выше чем у градиентного бустинга.\n",
    "\n",
    "<b>Чем вы можете объяснить эту разницу? </b>\n",
    "\n",
    "Вероятно, результат игры зависит от множества параметров, алгоритм градиентного бустинга не мложет учесть их все.\n",
    "\n",
    "<b>Быстрее ли работает логистическая регрессия по сравнению с градиентным бустингом?</b>\n",
    "\n",
    "Да, логистическая регрессия работает значительно быстрее градиентного бустинга."
   ]
  },
  {
   "cell_type": "code",
   "execution_count": 16,
   "id": "ff79193c",
   "metadata": {},
   "outputs": [],
   "source": [
    "# Среди признаков в выборке есть категориальные, которые мы использовали как числовые, \n",
    "# что вряд ли является хорошей идеей. Категориальных признаков в этой задаче одиннадцать: \n",
    "# lobby_type и r1_hero, r2_hero, ..., r5_hero, d1_hero, d2_hero, ..., d5_hero. \n",
    "# Уберите их из выборки, и проведите кросс-валидацию для логистической регрессии на новой выборке \n",
    "# с подбором лучшего параметра регуляризации. \n",
    "def delete_columns(X):\n",
    "    return X.loc[:, ~X.columns.isin([\n",
    "        'lobby_type', \n",
    "        'r1_hero', 'r2_hero', 'r3_hero', 'r4_hero', 'r5_hero',\n",
    "        'd1_hero', 'd2_hero', 'd3_hero', 'd4_hero', 'd5_hero',\n",
    "        ])]\n",
    "X_digit = delete_columns(X)\n",
    "X_digit_scaler = scaler_data(X_digit)"
   ]
  },
  {
   "cell_type": "code",
   "execution_count": 17,
   "id": "1d0fec80",
   "metadata": {},
   "outputs": [
    {
     "name": "stdout",
     "output_type": "stream",
     "text": [
      "Function LG with args: 1e-05 executed: 0:00:01.317453\n",
      "Function LG with args: 0.0001 executed: 0:00:01.106577\n",
      "Function LG with args: 0.001 executed: 0:00:02.071473\n",
      "Function LG with args: 0.01 executed: 0:00:03.236805\n",
      "Function LG with args: 0.1 executed: 0:00:03.182140\n",
      "Function LG with args: 1.0 executed: 0:00:03.333552\n",
      "Function LG with args: 10.0 executed: 0:00:03.610511\n",
      "Function LG with args: 100.0 executed: 0:00:03.043978\n",
      "Function LG with args: 1000.0 executed: 0:00:03.295592\n",
      "Function LG with args: 10000.0 executed: 0:00:03.387650\n",
      "Function LG with args: 100000.0 executed: 0:00:02.878598\n"
     ]
    }
   ],
   "source": [
    "scores = {c: log_timer(LG, (c, X_digit_scaler, y)) for c in C_range}"
   ]
  },
  {
   "cell_type": "code",
   "execution_count": 18,
   "id": "da1f597b",
   "metadata": {},
   "outputs": [
    {
     "name": "stdout",
     "output_type": "stream",
     "text": [
      "ALL_RESULT:\n",
      "Param:    1e-05 score: 0.6951\n",
      "Param:   0.0001 score: 0.7113\n",
      "Param:    0.001 score: 0.716\n",
      "Param:     0.01 score: 0.7165\n",
      "Param:      0.1 score: 0.7164\n",
      "Param:      1.0 score: 0.7165\n",
      "Param:     10.0 score: 0.7164\n",
      "Param:    100.0 score: 0.7163\n",
      "Param:   1000.0 score: 0.7163\n",
      "Param:  10000.0 score: 0.7165\n",
      "Param: 100000.0 score: 0.7166\n",
      "Best result: 0.7166\n"
     ]
    }
   ],
   "source": [
    "print('ALL_RESULT:')\n",
    "list(map(print_result, scores.items()))\n",
    "\n",
    "max_result = max([x for x in scores.values()])\n",
    "print('Best result: {:.4}'.format(max_result))"
   ]
  },
  {
   "cell_type": "markdown",
   "id": "1d6c018d",
   "metadata": {},
   "source": [
    "<b>Изменилось ли качество? </b>\n",
    "Нет качество не изменилось.\n",
    "\n",
    "<b>Чем вы можете это объяснить?</b>\n",
    "Тем что эти данные не имели никакого влияния на результат."
   ]
  },
  {
   "cell_type": "code",
   "execution_count": 19,
   "id": "36c1df00",
   "metadata": {},
   "outputs": [
    {
     "name": "stdout",
     "output_type": "stream",
     "text": [
      "Всего героев в игре: 112\n"
     ]
    }
   ],
   "source": [
    "# На предыдущем шаге мы исключили из выборки признаки rM_hero и dM_hero, которые показывают, \n",
    "# какие именно герои играли за каждую команду. Это важные признаки — герои имеют разные характеристики, \n",
    "# и некоторые из них выигрывают чаще, чем другие. Выясните из данных, \n",
    "# сколько различных идентификаторов героев существует в данной игре \n",
    "# (вам может пригодиться фукнция unique или value_counts).\n",
    "\n",
    "heroes = pandas.read_csv('data/dictionaries/heroes.csv')\n",
    "N = len(heroes) # — количество различных героев в выборке\n",
    "print('Всего героев в игре:', len(heroes))"
   ]
  },
  {
   "cell_type": "code",
   "execution_count": 20,
   "id": "30ae7c8f",
   "metadata": {},
   "outputs": [],
   "source": [
    "# Воспользуемся подходом \"мешок слов\" для кодирования информации о героях. \n",
    "# Пусть всего в игре имеет N различных героев. Сформируем N признаков, при этом i-й будет равен нулю, \n",
    "# если i-й герой не участвовал в матче; единице, если i-й герой играл за команду Radiant; \n",
    "# минус единице, если i-й герой играл за команду Dire. \n",
    "# Ниже вы можете найти код, который выполняет данной преобразование. \n",
    "def get_X_pick(X):\n",
    "    X_pick = np.zeros((X.shape[0], N))\n",
    "    for i, match_id in enumerate(X.index):\n",
    "        for p in range(5):\n",
    "            X_pick[i, X.loc[match_id, 'r%d_hero' % (p+1)]-1] = 1\n",
    "            X_pick[i, X.loc[match_id, 'd%d_hero' % (p+1)]-1] = -1\n",
    "    return X_pick\n",
    "\n",
    "X_pick = get_X_pick(X)"
   ]
  },
  {
   "cell_type": "code",
   "execution_count": 21,
   "id": "22ed39d2",
   "metadata": {},
   "outputs": [
    {
     "data": {
      "text/plain": [
       "(97230, 203)"
      ]
     },
     "execution_count": 21,
     "metadata": {},
     "output_type": "execute_result"
    }
   ],
   "source": [
    "# Добавьте полученные признаки к числовым, которые вы использовали во втором пункте данного этапа.\n",
    "X_digit_scaler_with_word = np.hstack([X_digit_scaler,X_pick])\n",
    "X_digit_scaler_with_word.shape"
   ]
  },
  {
   "cell_type": "code",
   "execution_count": 22,
   "id": "c5aa8038",
   "metadata": {},
   "outputs": [
    {
     "name": "stdout",
     "output_type": "stream",
     "text": [
      "Function LG with args: 1e-05 executed: 0:00:01.478195\n",
      "Function LG with args: 0.0001 executed: 0:00:04.306259\n",
      "Function LG with args: 0.001 executed: 0:00:05.093580\n",
      "Function LG with args: 0.01 executed: 0:00:11.591283\n",
      "Function LG with args: 0.1 executed: 0:00:15.620991\n",
      "Function LG with args: 1.0 executed: 0:00:15.685798\n",
      "Function LG with args: 10.0 executed: 0:00:14.562985\n",
      "Function LG with args: 100.0 executed: 0:00:14.133328\n",
      "Function LG with args: 1000.0 executed: 0:00:15.368152\n",
      "Function LG with args: 10000.0 executed: 0:00:14.392651\n",
      "Function LG with args: 100000.0 executed: 0:00:13.823294\n"
     ]
    }
   ],
   "source": [
    "# Проведите кросс-валидацию для логистической регрессии на новой выборке с подбором лучшего параметра регуляризации.\n",
    "scores = {c: log_timer(LG, (c, X_digit_scaler_with_word, y)) for c in C_range}"
   ]
  },
  {
   "cell_type": "code",
   "execution_count": 23,
   "id": "13badbe0",
   "metadata": {},
   "outputs": [
    {
     "name": "stdout",
     "output_type": "stream",
     "text": [
      "ALL_RESULT:\n",
      "Param:    1e-05 score: 0.6992\n",
      "Param:   0.0001 score: 0.7249\n",
      "Param:    0.001 score: 0.7463\n",
      "Param:     0.01 score: 0.7517\n",
      "Param:      0.1 score: 0.7517\n",
      "Param:      1.0 score: 0.7517\n",
      "Param:     10.0 score: 0.7519\n",
      "Param:    100.0 score: 0.7519\n",
      "Param:   1000.0 score: 0.7518\n",
      "Param:  10000.0 score: 0.7519\n",
      "Param: 100000.0 score: 0.7519\n",
      "Best result: 0.7519\n"
     ]
    }
   ],
   "source": [
    "print('ALL_RESULT:')\n",
    "list(map(print_result, scores.items()))\n",
    "\n",
    "# Какое получилось качество? \n",
    "max_result = max([x for x in scores.values()])\n",
    "print('Best result: {:.4}'.format(max_result))"
   ]
  },
  {
   "cell_type": "markdown",
   "id": "675a6ca5",
   "metadata": {},
   "source": [
    "<b>Улучшилось ли оно? </b>\n",
    "Да качество возросло\n",
    "\n",
    "<b>Чем вы можете это объяснить?</b>\n",
    "Наличие определенных типов героев в игре имеет значение в определении результата игры."
   ]
  },
  {
   "cell_type": "code",
   "execution_count": 24,
   "id": "8b11ab43",
   "metadata": {},
   "outputs": [
    {
     "data": {
      "text/plain": [
       "(17177, 102)"
      ]
     },
     "execution_count": 24,
     "metadata": {},
     "output_type": "execute_result"
    }
   ],
   "source": [
    "# Постройте предсказания вероятностей победы команды Radiant для тестовой выборки \n",
    "# с помощью лучшей из изученных моделей (лучшей с точки зрения AUC-ROC на кросс-валидации).\n",
    "# Убедитесь, что предсказанные вероятности адекватные — находятся на отрезке [0, 1],\n",
    "# не совпадают между собой (т.е. что модель не получилась константной).\n",
    "test = pandas.read_csv('./data/features_test.csv', index_col='match_id')\n",
    "test.shape"
   ]
  },
  {
   "cell_type": "code",
   "execution_count": 25,
   "id": "e5e893e5",
   "metadata": {},
   "outputs": [
    {
     "data": {
      "text/plain": [
       "array([[0.32894292, 0.67105708],\n",
       "       [0.26343979, 0.73656021],\n",
       "       [0.39695896, 0.60304104],\n",
       "       ...,\n",
       "       [0.53995305, 0.46004695],\n",
       "       [0.58381955, 0.41618045],\n",
       "       [0.06559848, 0.93440152]])"
      ]
     },
     "execution_count": 25,
     "metadata": {},
     "output_type": "execute_result"
    }
   ],
   "source": [
    "X_test = test.fillna(0)\n",
    "\n",
    "X_test_pick = get_X_pick(X_test) # мешок слов для тестовой выборки\n",
    "X_test_digit = delete_columns(X_test) # удаляем колонки с типом героев\n",
    "X_test_digit_scaler = scaler_data(X_test_digit) # скалируем данные\n",
    "X_test_digit_scaler_with_word = np.hstack([X_digit_scaler,X_pick]) # объедтиняем с мешком слов\n",
    "\n",
    "clf = LogisticRegression(C=1.0, random_state=42, max_iter=3000).fit(X_digit_scaler_with_word, y)\n",
    "prediction = clf.predict_proba(X_test_digit_scaler_with_word)\n",
    "prediction"
   ]
  },
  {
   "cell_type": "code",
   "execution_count": 26,
   "id": "9c73e16f",
   "metadata": {},
   "outputs": [
    {
     "data": {
      "text/plain": [
       "0.9987304098042353"
      ]
     },
     "execution_count": 26,
     "metadata": {},
     "output_type": "execute_result"
    }
   ],
   "source": [
    "max([x[1] for x in prediction])"
   ]
  },
  {
   "cell_type": "code",
   "execution_count": 27,
   "id": "79903dd8",
   "metadata": {},
   "outputs": [
    {
     "data": {
      "text/plain": [
       "0.0013221239361494441"
      ]
     },
     "execution_count": 27,
     "metadata": {},
     "output_type": "execute_result"
    }
   ],
   "source": [
    "min([x[1] for x in prediction])"
   ]
  },
  {
   "cell_type": "code",
   "execution_count": null,
   "id": "96758cb3",
   "metadata": {},
   "outputs": [],
   "source": []
  }
 ],
 "metadata": {
  "kernelspec": {
   "display_name": "Python 3 (ipykernel)",
   "language": "python",
   "name": "python3"
  },
  "language_info": {
   "codemirror_mode": {
    "name": "ipython",
    "version": 3
   },
   "file_extension": ".py",
   "mimetype": "text/x-python",
   "name": "python",
   "nbconvert_exporter": "python",
   "pygments_lexer": "ipython3",
   "version": "3.10.1"
  }
 },
 "nbformat": 4,
 "nbformat_minor": 5
}
